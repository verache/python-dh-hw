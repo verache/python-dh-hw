{
 "cells": [
  {
   "cell_type": "markdown",
   "metadata": {},
   "source": [
    "###  Задание 1\n",
    "\n",
    "Возьмите достаточно длинную строку, хотя бы 20 символов.\n",
    "Используя срезы( конструкции с квадратными скобочками и двоеточиями при необходимости, которые были пройдены на 4 семинаре ([i],[a:b], [a:b:step]; работают со строками также, как со списком)) \n",
    "\n",
    "1. выведите третий символ этой строки.\n",
    "2. выведите предпоследний символ этой строки.\n",
    "3. выведите первые пять символов этой строки.\n",
    "4. выведите всю строку, кроме последних двух символов.\n",
    "5. выведите все символы с четными индексами (считая, что индексация начинается с 0, поэтому символы выводятся начиная с первого).\n",
    "6. выведите все символы с нечетными индексами, то есть начиная со второго символа строки.\n",
    "7. выведите все символы в обратном порядке.\n",
    "8. выведите все символы строки через один в обратном порядке, начиная с последнего.\n",
    "9. выведите длину данной строки."
   ]
  },
  {
   "cell_type": "code",
   "execution_count": 35,
   "metadata": {},
   "outputs": [
    {
     "name": "stdout",
     "output_type": "stream",
     "text": [
      "['d', 'i', 'g', 'i', 't', 'a', 'l', ' ', 'h', 'u', 'm', 'a', 'n', 'i', 't', 'i', 'e', 's', ' ', 'f', 'o', 'r', ' ', 'l', 'i', 'f', 'e']\n",
      "27\n",
      "g\n",
      "f\n",
      "['d', 'i', 'g', 'i', 't']\n",
      "['d', 'i', 'g', 'i', 't', 'a', 'l', ' ', 'h', 'u', 'm', 'a', 'n', 'i', 't', 'i', 'e', 's', ' ', 'f', 'o', 'r', ' ', 'l', 'i']\n",
      "[]\n",
      "['d', 'g', 't', 'l', 'h', 'm', 'n', 't', 'e', ' ', 'o', ' ', 'i', 'e']\n",
      "igital humanities for life\n",
      "['e', 'f', 'i', 'l', ' ', 'r', 'o', 'f', ' ', 's', 'e', 'i', 't', 'i', 'n', 'a', 'm', 'u', 'h', ' ', 'l', 'a', 't', 'i', 'g', 'i', 'd']\n"
     ]
    }
   ],
   "source": [
    "line = \"digital humanities for life\"\n",
    "\n",
    "lettas = list(line) #разбиваем строку на символы, хотя это не обязательно, можно работать уже с переменной line\n",
    "print(lettas) \n",
    "\n",
    "print(len(line)) #9узнаем, сколько знаков в строке, чтобы было проще делать слайсы\n",
    "\n",
    "print(line[2]) \n",
    "\n",
    "print(lettas[-2]) \n",
    "\n",
    "print(lettas[:5])\n",
    "\n",
    "print(lettas[:-2])\n",
    "\n",
    "print(lettas[27:0])\n",
    "\n",
    "print(lettas[: :2])\n",
    "\n",
    "print(line[1: :1])\n",
    "\n",
    "print(lettas[: :-1]) #задаем срез от 0 до len(lettas), а потом делаем шаг на один в обратном порядке \n"
   ]
  },
  {
   "cell_type": "markdown",
   "metadata": {},
   "source": [
    "### Классная работа 21.04"
   ]
  },
  {
   "cell_type": "code",
   "execution_count": 39,
   "metadata": {},
   "outputs": [
    {
     "name": "stdout",
     "output_type": "stream",
     "text": [
      "14\n",
      "мие\n"
     ]
    }
   ],
   "source": [
    "lime = \"абвгдежзиклмно\"\n",
    "print(len(lime))\n",
    "print(lime[11:2:-3]) #если мы хотим включить символ в обычном порядке, мы указываем символ за ним, \n",
    "            #если не хотим включить, то указваем сам символ. \n",
    "            #Если идем в обратном порядке, то включая указываем символ перед соседом, напр включаем 3, пишем2\n"
   ]
  },
  {
   "cell_type": "markdown",
   "metadata": {},
   "source": [
    "### Задание 2\n",
    "\n",
    "Легенда: Вася хочет проверить, верно ли, что данная текстовая строка читается слева направо и справа налево одинаково. Помогите Васе написать такую программу. Возьмите два слова из строчных букв. Для первого слова, которое должно читаться одинаково, выведите YES, а для второго слова, которое должно читаться неодинаково, -- NO."
   ]
  },
  {
   "cell_type": "code",
   "execution_count": 66,
   "metadata": {},
   "outputs": [
    {
     "name": "stdout",
     "output_type": "stream",
     "text": [
      "дом мод\n",
      "YES\n"
     ]
    }
   ],
   "source": [
    "line = input()\n",
    "b = line[: :-1]\n",
    "if line==b: \n",
    "        print(\"YES\")\n",
    "else:\n",
    "        print(\"NO\")"
   ]
  },
  {
   "cell_type": "markdown",
   "metadata": {},
   "source": [
    "### Задание 3\n",
    "\n",
    "Сформируйте такой лист под названием my_list, чтобы после того, как вы вызвали команду `print(my_list)' вывелось:['one', 'two', 'three']. Затем добавьте еще один элемент под названием elem с помощью метода append, и напечатайте количество элементов в измененном списке, используя специальную функцию.\n"
   ]
  },
  {
   "cell_type": "code",
   "execution_count": 63,
   "metadata": {},
   "outputs": [
    {
     "name": "stdout",
     "output_type": "stream",
     "text": [
      "d\n"
     ]
    }
   ],
   "source": [
    "my_list = ['one', 'two', 'three']\n",
    "elem = input()\n"
   ]
  },
  {
   "cell_type": "code",
   "execution_count": 65,
   "metadata": {},
   "outputs": [
    {
     "name": "stdout",
     "output_type": "stream",
     "text": [
      "5\n"
     ]
    }
   ],
   "source": [
    "my_list.append(elem)\n",
    "print(len(my_list))"
   ]
  }
 ],
 "metadata": {
  "kernelspec": {
   "display_name": "Python 3",
   "language": "python",
   "name": "python3"
  },
  "language_info": {
   "codemirror_mode": {
    "name": "ipython",
    "version": 3
   },
   "file_extension": ".py",
   "mimetype": "text/x-python",
   "name": "python",
   "nbconvert_exporter": "python",
   "pygments_lexer": "ipython3",
   "version": "3.6.3"
  }
 },
 "nbformat": 4,
 "nbformat_minor": 2
}
