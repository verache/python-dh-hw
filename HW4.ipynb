{
 "cells": [
  {
   "cell_type": "markdown",
   "metadata": {},
   "source": [
    "### Задание 1\n",
    "\n",
    "1.Скачайте из папки с домашними заданиями английский текст первой книги о Гарри Поттере. Он должен быть сохранен отдельным файлом. Файл с текстом будет размещен в директории с .ipynb файлом домашнего задания.\n",
    "\n",
    "2.Очистите текст от пунктуации, приведите его к нижнему регистру, лемматизируйте и запишите в новый файл. "
   ]
  },
  {
   "cell_type": "code",
   "execution_count": null,
   "metadata": {
    "collapsed": true
   },
   "outputs": [],
   "source": [
    "import nltk\n",
    "from nltk import WordNetLemmatizer\n",
    "import os, matplotlib \n",
    "from collections import Counter\n",
    "with open('/Users/verache/Desktop/python-for-dh/Homeworks/Harry_Potter_and_the_Sorcerers_Stone.txt', 'r', encoding='utf-8') as f:\n",
    "    text = f.read() \n",
    "cut = [w.strip(\"!\\\"#$%&'()*+,./:;<=>?@[\\]^_`{|}~„“«»†*—/\\-—\") for w in text.split()] #срезаю пунктуацию\n",
    "cut = [w for w in cut if len(w) != 0] \n",
    "cut = ' '.join(cut) # соединяем в строку\n",
    "text.lower() #перевожу в нижний регистр\n",
    "wnl = WordNetLemmatizer()\n",
    "wnl.lemmatize(text) \n",
    "with open('/Users/verache/Desktop/python-for-dh/Homeworks/Lemmatized_Harry_Potter_and_the_Sorcerers_Stone.txt', 'w', encoding='utf-8') as f:\n",
    "    lemme = f.write() #лемматизировли текст и записали в новый файл\n",
    "    "
   ]
  },
  {
   "cell_type": "markdown",
   "metadata": {},
   "source": [
    "Нужно определить абсолютную частоту слов, составить ранжированный список слов по частоте,посчитать ipm и после этого проверить, выполняется ли здесь закон Ципфа.\n",
    "\n",
    "Построить линейную диаграмму, где по оси Х будет ранг (порядковый номер) слова в отсортированном по убыванию частотном словаре, а по оси Y -- относительная частота (абсолютная частота, разделенная на количество слов в тексте). Т.е. у самого частотного слова будет ранг 1, у второго по частоте -- 2 и т.д."
   ]
  },
  {
   "cell_type": "code",
   "execution_count": null,
   "metadata": {
    "collapsed": true
   },
   "outputs": [],
   "source": []
  },
  {
   "cell_type": "markdown",
   "metadata": {},
   "source": [
    "3.Очистите текст от стоп-слов.\n",
    "Опрделите частоту и ipm\n",
    "Постройте barplot для 30 самых частотных слов. Эти слова должны быть по оси Х в виде подписей к делениям. Значениями по оси Х будет ряд чисел от 0 до 30, а по оси Y -- абсолютная частота."
   ]
  },
  {
   "cell_type": "code",
   "execution_count": 5,
   "metadata": {},
   "outputs": [],
   "source": [
    "from nltk.corpus import stopwords\n",
    "sw = stopwords.words('english')\n",
    "\n"
   ]
  }
 ],
 "metadata": {
  "kernelspec": {
   "display_name": "Python 3",
   "language": "python",
   "name": "python3"
  },
  "language_info": {
   "codemirror_mode": {
    "name": "ipython",
    "version": 3
   },
   "file_extension": ".py",
   "mimetype": "text/x-python",
   "name": "python",
   "nbconvert_exporter": "python",
   "pygments_lexer": "ipython3",
   "version": "3.6.3"
  }
 },
 "nbformat": 4,
 "nbformat_minor": 2
}
