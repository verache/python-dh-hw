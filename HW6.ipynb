{
 "cells": [
  {
   "cell_type": "code",
   "execution_count": 5,
   "metadata": {},
   "outputs": [],
   "source": [
    "text = \"абракадабра фокус покус десятка за курс немедленно появис\"\n",
    "smbls=[]\n",
    "text1 = [c for c in text if c != \"\"]\n",
    "text1 = \"\".join (text1)\n",
    "for i in range(len(text)-1):\n",
    "    b = text1[i]+text1[i+1]\n",
    "    smbls.append(b)"
   ]
  },
  {
   "cell_type": "code",
   "execution_count": 6,
   "metadata": {},
   "outputs": [
    {
     "name": "stdout",
     "output_type": "stream",
     "text": [
      "['аб', 'бр', 'ра', 'ак', 'ка', 'ад', 'да', 'аб', 'бр', 'ра', 'а ', ' ф', 'фо', 'ок', 'ку', 'ус', 'с ', ' п', 'по', 'ок', 'ку', 'ус', 'с ', ' д', 'де', 'ес', 'ся', 'ят', 'тк', 'ка', 'а ', ' з', 'за', 'а ', ' к', 'ку', 'ур', 'рс', 'с ', ' н', 'не', 'ем', 'ме', 'ед', 'дл', 'ле', 'ен', 'нн', 'но', 'о ', ' п', 'по', 'оя', 'яв', 'ви', 'ис']\n"
     ]
    }
   ],
   "source": [
    "print(smbls)"
   ]
  },
  {
   "cell_type": "code",
   "execution_count": 8,
   "metadata": {},
   "outputs": [],
   "source": [
    "d = {}\n",
    "for bigram in smbls:\n",
    "    if bigram in d:\n",
    "        d[bigram]+=1\n",
    "    else:\n",
    "        d[bigram]=1\n",
    "        "
   ]
  },
  {
   "cell_type": "code",
   "execution_count": 9,
   "metadata": {},
   "outputs": [
    {
     "name": "stdout",
     "output_type": "stream",
     "text": [
      "{'аб': 2, 'бр': 2, 'ра': 2, 'ак': 1, 'ка': 2, 'ад': 1, 'да': 1, 'а ': 3, ' ф': 1, 'фо': 1, 'ок': 2, 'ку': 3, 'ус': 2, 'с ': 3, ' п': 2, 'по': 2, ' д': 1, 'де': 1, 'ес': 1, 'ся': 1, 'ят': 1, 'тк': 1, ' з': 1, 'за': 1, ' к': 1, 'ур': 1, 'рс': 1, ' н': 1, 'не': 1, 'ем': 1, 'ме': 1, 'ед': 1, 'дл': 1, 'ле': 1, 'ен': 1, 'нн': 1, 'но': 1, 'о ': 1, 'оя': 1, 'яв': 1, 'ви': 1, 'ис': 1}\n"
     ]
    }
   ],
   "source": [
    "print(d)"
   ]
  },
  {
   "cell_type": "code",
   "execution_count": null,
   "metadata": {
    "collapsed": true
   },
   "outputs": [],
   "source": []
  }
 ],
 "metadata": {
  "kernelspec": {
   "display_name": "Python 3",
   "language": "python",
   "name": "python3"
  },
  "language_info": {
   "codemirror_mode": {
    "name": "ipython",
    "version": 3
   },
   "file_extension": ".py",
   "mimetype": "text/x-python",
   "name": "python",
   "nbconvert_exporter": "python",
   "pygments_lexer": "ipython3",
   "version": "3.6.3"
  }
 },
 "nbformat": 4,
 "nbformat_minor": 2
}
