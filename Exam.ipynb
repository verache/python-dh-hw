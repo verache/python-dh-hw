{
 "cells": [
  {
   "cell_type": "markdown",
   "metadata": {},
   "source": [
    "### №1\n",
    "Прочитайте файл и запишите текст в какую-нибудь переменную.\n",
    "\n",
    "Напишите регулярное выражение, которое найдет в этом тексте все слова, начинающиеся на латинскую H, написанные с большой буквы и длиной от 5 символов и больше. Т.е. выражение должно ловить такие слова как Harry, Hermione, Hagrid, Hogwarts и т.д., не захватывая при этом пробелы и знаки пунктуации.\n",
    "\n",
    "Напечатайте количество совпадений (т.е. сколько всего слов в тексте нашло регулярное выражение), предварительно сохранив их в список.\n",
    "\n",
    "Затем сделайте из списка множество, чтобы посмотреть, сколько уникальных слов попало под этот шаблон. Распечатайте содержимое этого множества. Какие слова, кроме имен и названий, туда попали и почему?\n"
   ]
  },
  {
   "cell_type": "code",
   "execution_count": 46,
   "metadata": {},
   "outputs": [
    {
     "name": "stdout",
     "output_type": "stream",
     "text": [
      "[]\n"
     ]
    }
   ],
   "source": [
    "import os, re, json, matplotlib, nltk\n",
    "\n",
    "with open('/Users/verache/Desktop/python-for-dh/Homeworks/Harry_Potter_and_the_Sorcerers_Stone.txt', 'r', encoding='utf-8') as f:\n",
    "    harry = f.read() \n",
    "  re.m  \n",
    "words = re.findall(r'\\b[H]\\w+', 'harry')\n",
    "for val in harry\n",
    "print(words)"
   ]
  },
  {
   "cell_type": "markdown",
   "metadata": {},
   "source": [
    "### №2\n",
    "Очистите текст от пунктуации, приведите его к нижнему регистру, а затем удалите из него стоп-слова.\n"
   ]
  },
  {
   "cell_type": "code",
   "execution_count": 40,
   "metadata": {},
   "outputs": [
    {
     "data": {
      "text/plain": [
       "[('harry', 3139.728756306524),\n",
       " ('said', 1910.302400388797),\n",
       " ('ron', 1027.3288727531692),\n",
       " ('hagrid', 880.5676052170021),\n",
       " ('could', 724.1826480063323),\n",
       " ('hermione', 642.381285773059),\n",
       " ('back', 618.3220615868021),\n",
       " ('one', 601.4806046564222),\n",
       " ('got', 490.80817339964057),\n",
       " ('get', 461.9371043761323),\n",
       " ('like', 452.31341470162954),\n",
       " ('know', 445.09564744575243),\n",
       " ('see', 425.84826809674695),\n",
       " ('professor', 413.8186560036185),\n",
       " ('looked', 406.6008887477414),\n",
       " ('snape', 401.78904391049),\n",
       " ('dumbledore', 375.3238973056075),\n",
       " ('would', 368.10613004973044),\n",
       " ('around', 339.2350610262222),\n",
       " ('dudley', 329.6113713517194),\n",
       " ('going', 322.3936040958423),\n",
       " ('go', 312.76991442133954),\n",
       " ('something', 307.9580695840882),\n",
       " ('think', 291.1166126537084),\n",
       " ('never', 291.1166126537084),\n",
       " ('right', 291.1166126537084),\n",
       " ('malfoy', 291.1166126537084),\n",
       " ('uncle', 288.7106902350827),\n",
       " ('look', 286.304767816457),\n",
       " ('time', 276.68107814195423)]"
      ]
     },
     "execution_count": 40,
     "metadata": {},
     "output_type": "execute_result"
    }
   ],
   "source": [
    "with open('/Users/verache/Desktop/python-for-dh/Homeworks/Harry_Potter_and_the_Sorcerers_Stone.txt', 'r', encoding='utf-8') as f:\n",
    "    text = f.read() \n",
    "    \n",
    "stripped = [w.strip(\"’!\\\"#$%&'()*+,./:;<=>?@[\\]^_`{|}~„“”«»†*—/\\-”—?,\") for w in text.split()] #срезаю пунктуацию\n",
    "stripped = [w for w in stripped if len(w) != 0] #удаляю пустые места\n",
    "stripped = ' '.join(stripped).lower() #соединяю в строку перевожу в нижний регистр\n",
    "\n",
    "from nltk.tokenize import word_tokenize\n",
    "from collections import Counter\n",
    "from nltk.corpus import stopwords\n",
    "sw = stopwords.words('english')\n",
    "sw = sw + [\"'s\", \"n't\", \"'d\", \"'ve\",\"'ll\", \"'re\", \"'m\"]\n",
    "\n",
    "non_stop = [w for w in word_tokenize(stripped) if w not in sw] #токенизирую текст и убираю стоп-слова\n",
    "\n",
    "absolute = Counter(non_stop) #считаю абсолютную частоту\n",
    "ipm = {}\n",
    "for k, v in absolute.items():\n",
    "    relative [k] = ((v/len(stripped))*1000000)#относительная частота\n",
    "nonstop_sorted = sorted(relative.items(), key=lambda x: x[1], reverse=True)\n",
    "nonstop_sorted[:30]"
   ]
  },
  {
   "cell_type": "markdown",
   "metadata": {},
   "source": [
    "Постройте barplot для 30 самых частотных слов. Эти слова должны быть в виде подписей к делениям по оси Х; подписи должны быть развернуты на 90 градусов против часовой стрелки, чтобы надписи шли как бы снизу вверх. Значениями по оси Х будет ряд чисел от 0 до 30, а по оси Y -- относительная частота (абсолютная частота слова / длину всего текста в словах). Длину текста нужно посмотреть до удаления стоп-слов! На графике также должен быть заголовок и подписи осей."
   ]
  },
  {
   "cell_type": "code",
   "execution_count": 45,
   "metadata": {},
   "outputs": [
    {
     "data": {
      "image/png": "[encoded data removed]",
      "text/plain": [
       "<matplotlib.figure.Figure at 0x10f42e128>"
      ]
     },
     "metadata": {},
     "output_type": "display_data"
    }
   ],
   "source": [
    "import matplotlib.pyplot as plt\n",
    "from matplotlib import style\n",
    "\n",
    "X2 = range(30)\n",
    "Y2 = [word[1] for word in nonstop_sorted] # вынимаем из словаря число\n",
    "Z2 = [word[0] for word in nonstop_sorted] # вынимаем слово для подписи делений\n",
    "\n",
    "plt.bar(X2, Y2[:30], color='red')\n",
    "plt.title('Рейтинг частотности слов')\n",
    "plt.ylabel('Относительная частота слова')\n",
    "plt.xlabel('Место в списке')\n",
    "plt.xticks(X2, Z2[:30], rotation=90)\n",
    "plt.show()\n",
    "\n",
    "\n",
    "\n",
    "\n"
   ]
  },
  {
   "cell_type": "code",
   "execution_count": null,
   "metadata": {
    "collapsed": true
   },
   "outputs": [],
   "source": []
  }
 ],
 "metadata": {
  "kernelspec": {
   "display_name": "Python 3",
   "language": "python",
   "name": "python3"
  },
  "language_info": {
   "codemirror_mode": {
    "name": "ipython",
    "version": 3
   },
   "file_extension": ".py",
   "mimetype": "text/x-python",
   "name": "python",
   "nbconvert_exporter": "python",
   "pygments_lexer": "ipython3",
   "version": "3.6.3"
  }
 },
 "nbformat": 4,
 "nbformat_minor": 2
}
