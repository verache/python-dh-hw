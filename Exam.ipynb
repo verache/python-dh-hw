{
 "cells": [
  {
   "cell_type": "markdown",
   "metadata": {},
   "source": [
    "### №1\n",
    "Прочитайте файл и запишите текст в какую-нибудь переменную.\n",
    "\n",
    "Напишите регулярное выражение, которое найдет в этом тексте все слова, начинающиеся на латинскую H, написанные с большой буквы и длиной от 5 символов и больше. Т.е. выражение должно ловить такие слова как Harry, Hermione, Hagrid, Hogwarts и т.д., не захватывая при этом пробелы и знаки пунктуации.\n",
    "\n",
    "Напечатайте количество совпадений (т.е. сколько всего слов в тексте нашло регулярное выражение), предварительно сохранив их в список.\n",
    "\n",
    "Затем сделайте из списка множество, чтобы посмотреть, сколько уникальных слов попало под этот шаблон. Распечатайте содержимое этого множества. Какие слова, кроме имен и названий, туда попали и почему?\n"
   ]
  },
  {
   "cell_type": "code",
   "execution_count": null,
   "metadata": {
    "collapsed": true
   },
   "outputs": [],
   "source": [
    "import os, re, json, matplotlib, nltk\n",
    "\n",
    "with open('/Users/verache/Desktop/python-for-dh/Homeworks/Harry_Potter_and_the_Sorcerers_Stone.txt', 'r', encoding='utf-8') as f:\n",
    "    harry = f.read() \n",
    "    "
   ]
  },
  {
   "cell_type": "markdown",
   "metadata": {},
   "source": [
    "### №2\n",
    "Очистите текст от пунктуации, приведите его к нижнему регистру, а затем удалите из него стоп-слова.\n",
    "Постройте barplot для 30 самых частотных слов. Эти слова должны быть в виде подписей к делениям по оси Х; подписи должны быть развернуты на 90 градусов против часовой стрелки, чтобы надписи шли как бы снизу вверх. Значениями по оси Х будет ряд чисел от 0 до 30, а по оси Y -- относительная частота (абсолютная частота слова / длину всего текста в словах). Длину текста нужно посмотреть до удаления стоп-слов! На графике также должен быть заголовок и подписи осей."
   ]
  },
  {
   "cell_type": "code",
   "execution_count": 14,
   "metadata": {},
   "outputs": [],
   "source": [
    "with open('/Users/verache/Desktop/python-for-dh/Homeworks/Harry_Potter_and_the_Sorcerers_Stone.txt', 'r', encoding='utf-8') as f:\n",
    "    text = f.read() \n",
    "    \n",
    "stripped = [w.strip(\"’!\\\"#$%&'()*+,./:;<=>?@[\\]^_`{|}~„“”«»†*—/\\-”—?,\") for w in text.split()] #срезаю пунктуацию\n",
    "stripped = [w for w in stripped if len(w) != 0] #удаляю пустые места\n",
    "stripped = ' '.join(stripped).lower() #соединяю в строку перевожу в нижний регистр\n",
    "\n",
    "from nltk.corpus import stopwords\n",
    "from nltk.tokenize import word_tokenize\n",
    "from collections import Counter\n",
    "\n",
    "sw = stopwords.words('english')\n",
    "non_stop = [w for w in word_tokenize(stripped) if w not in sw] #токенизирую текст и убираю стоп-слова\n",
    "\n",
    "absolute = Counter(stripped.split(\" \"))\n",
    "relative = {}\n",
    "for k, v in absolute.items():\n",
    "    relative [k] = (v/len(non_stop))\n",
    "    "
   ]
  },
  {
   "cell_type": "code",
   "execution_count": 1,
   "metadata": {},
   "outputs": [
    {
     "ename": "NameError",
     "evalue": "name 'stripped' is not defined",
     "output_type": "error",
     "traceback": [
      "\u001b[0;31m---------------------------------------------------------------------------\u001b[0m",
      "\u001b[0;31mNameError\u001b[0m                                 Traceback (most recent call last)",
      "\u001b[0;32m<ipython-input-1-40a00be20690>\u001b[0m in \u001b[0;36m<module>\u001b[0;34m()\u001b[0m\n\u001b[0;32m----> 1\u001b[0;31m \u001b[0mprint\u001b[0m\u001b[0;34m(\u001b[0m\u001b[0mstripped\u001b[0m\u001b[0;34m)\u001b[0m\u001b[0;34m\u001b[0m\u001b[0m\n\u001b[0m",
      "\u001b[0;31mNameError\u001b[0m: name 'stripped' is not defined"
     ]
    }
   ],
   "source": [
    "\n"
   ]
  },
  {
   "cell_type": "code",
   "execution_count": null,
   "metadata": {
    "collapsed": true
   },
   "outputs": [],
   "source": []
  }
 ],
 "metadata": {
  "kernelspec": {
   "display_name": "Python 3",
   "language": "python",
   "name": "python3"
  },
  "language_info": {
   "codemirror_mode": {
    "name": "ipython",
    "version": 3
   },
   "file_extension": ".py",
   "mimetype": "text/x-python",
   "name": "python",
   "nbconvert_exporter": "python",
   "pygments_lexer": "ipython3",
   "version": "3.6.3"
  }
 },
 "nbformat": 4,
 "nbformat_minor": 2
}
